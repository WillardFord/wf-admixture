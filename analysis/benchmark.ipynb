{
 "cells": [
  {
   "cell_type": "markdown",
   "metadata": {},
   "source": [
    "# Benchmark Results"
   ]
  },
  {
   "cell_type": "code",
   "execution_count": null,
   "metadata": {},
   "outputs": [],
   "source": [
    "%% bash\n",
    "# Run in wf-admixture root directory\n",
    "CURDIR=chr21Example\n",
    "VCF_DOWNLOAD=http://ftp.1000genomes.ebi.ac.uk/vol1/ftp/release/20130502/ALL.chr21.phase3_shapeit2_mvncall_integrated_v5b.20130502.genotypes.vcf.gz\n",
    "VCF=1000G_ALL.chr21.vcf.gz\n",
    "SAMPLEINFO=igsr_samples.tsv\n",
    "PREFIX=chr21-test\n",
    "VALID_SAMPLES=admixed_sample_ids.txt\n",
    "TINY_SAMPLES=admixed_sample_ids.tiny.txt\n",
    "\n",
    "mkdir $CURDIR\n",
    "cd $CURDIR\n",
    "\n",
    "curl $VCF_DOWNLOAD -o $VCF\n",
    "\n",
    "\n",
    "echo \"\" > $VALID_SAMPLES\n",
    "\n",
    "cat $SAMPLEINFO | grep \"1000 Genomes phase 3 release\" | awk -F\"\\t\" '($4==\"CEU\")' | awk '{print $1 \"\\t\" $1}' >> $VALID_SAMPLES\n",
    "\n",
    "cat $SAMPLEINFO | grep \"1000 Genomes phase 3 release\" | awk -F\"\\t\" '($4==\"PEL\")' | awk '{print $1 \"\\t\" $1}' >> $VALID_SAMPLES\n",
    "\n",
    "cat $SAMPLEINFO | grep \"1000 Genomes phase 3 release\" | awk -F\"\\t\" '($4==\"GWD\")' | awk '{print $1 \"\\t\" $1}' >> $VALID_SAMPLES\n",
    "\n",
    "cat $SAMPLEINFO | grep \"1000 Genomes phase 3 release\" | awk -F\"\\t\" '($4==\"ASW\")' | awk '{print $1 \"\\t\" $1}' >> $VALID_SAMPLES\n",
    "\n",
    "cat $SAMPLEINFO | grep \"1000 Genomes phase 3 release\" | awk -F\"\\t\" '($4==\"PUR\")' | awk '{print $1 \"\\t\" $1}' >> $VALID_SAMPLES\n",
    "\n",
    "plink --vcf $VCF --keep $VALID_SAMPLES --double-id --maf 0.01 --out $PREFIX --make-bed\n",
    "\n",
    "plink --bed $PREFIX.bed --bim $PREFIX.bim --fam $PREFIX.fam --chr 21 --indep-pairwise 50 10 0.1\n",
    "\n",
    "plink --bed $PREFIX.bed --bim $PREFIX.bim --fam $PREFIX.fam --chr 21 --extract plink.prune.in --make-bed --out $PREFIX.pruned\n",
    "\n",
    "plink --bed $PREFIX.pruned.bed --bim $PREFIX.pruned.bim --fam $PREFIX.pruned.fam --thin-count 1000 --make-bed --out $PREFIX.pruned.thinned\n",
    "\n",
    "cd ..\n",
    "wf-admixture $CURDIR/$PREFIX.pruned.thinned.bed 3 -o $CURDIR/$PREFIX.pruned.thinned.wf-admixture\n",
    "\n",
    "wf-admixture $CURDIR/$PREFIX.pruned.thinned.bed 3 -o $CURDIR/$PREFIX.pruned.thinned.wf-admixture.parallel\n",
    "\n",
    "#---\n",
    "# Toy Example\n",
    "head -n 100 $VALID_SAMPLES | tail -n 5 > $TINY_SAMPLES\n",
    "\n",
    "plink --bed $PREFIX.pruned.bed --bim $PREFIX.pruned.bim --fam $PREFIX.pruned.fam --thin-count 3 --make-bed --out $PREFIX.pruned.tiny\n",
    "\n",
    "plink --vcf $VCF --keep $TINY_SAMPLES --double-id --maf 0.01 --out $PREFIX.tiny --make-bed\n",
    "plink --bed $PREFIX.tiny.bed --bim $PREFIX.tiny.bim --fam $PREFIX.tiny.fam --chr 21 --indep-pairwise 50 10 0.1\n",
    "plink --bed $PREFIX.tiny.bed --bim $PREFIX.tiny.bim --fam $PREFIX.tiny.fam --extract plink.prune.in --thin-count 3 --make-bed --out $PREFIX.tiny.pruned.thinned\n",
    "\n",
    "cd ..\n",
    "wf-admixture $CURDIR/$PREFIX.tiny.pruned.thinned.bed 3 -o $CURDIR/$PREFIX.tiny.pruned.thinned.wf-admixture\n",
    "#---\n",
    "\n",
    "admixture $CURDIR/$PREFIX.pruned.thinned.bed 3"
   ]
  },
  {
   "cell_type": "markdown",
   "metadata": {},
   "source": [
    "wf-admixture on \n",
    "\n",
    "chr21Example/chr21-test.pruned.thinned.wf-admixture\n",
    "\n",
    "Num Sample: 462\n",
    "Num Variants: 1000\n",
    "\n",
    "Giving 8 hours, 24 minutes, 29 seconds\n",
    "3463 iterations"
   ]
  },
  {
   "cell_type": "markdown",
   "metadata": {},
   "source": [
    "admixture on \n",
    "\n",
    "chr21Example/chr21-test.pruned.thinned.wf-admixture\n",
    "\n",
    "Num Samples: 462\n",
    "Num Variants: 1000\n",
    "\n",
    "13 iterations (21.059 sec)"
   ]
  }
 ],
 "metadata": {
  "language_info": {
   "name": "python"
  }
 },
 "nbformat": 4,
 "nbformat_minor": 2
}
